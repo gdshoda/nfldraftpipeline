{
 "cells": [
  {
   "cell_type": "code",
   "execution_count": 1,
   "metadata": {},
   "outputs": [],
   "source": [
    "import requests\n",
    "import pandas as pd\n",
    "import json\n",
    "from urllib.parse import quote\n",
    "\n",
    "import warnings\n",
    "\n",
    "# Mute all warnings\n",
    "warnings.filterwarnings(\"ignore\")"
   ]
  },
  {
   "cell_type": "code",
   "execution_count": 14,
   "metadata": {},
   "outputs": [],
   "source": [
    "base_url = \"https://api.collegefootballdata.com/\"\n",
    "\n",
    "url_add = \"teams\"\n",
    "\n",
    "full_url = base_url + url_add\n",
    "\n",
    "api_token = \"gdgvvFI6ZGh3pmGC+3VLf+G7u0ErUjMgC8vDYZxSByy27d2Q7XWbfU3HURW0N6+z\"\n",
    "\n",
    "headers = {\n",
    "    'Authorization': f'Bearer {api_token}',\n",
    "    'Content-Type': 'application/JSON'}"
   ]
  },
  {
   "cell_type": "code",
   "execution_count": 15,
   "metadata": {},
   "outputs": [],
   "source": [
    "response = requests.get(full_url,\n",
    "                     headers = headers)\n",
    "\n",
    "data = response.json()\n",
    "\n",
    "teams = pd.DataFrame(data)\n",
    "\n",
    "year_list = range(2009,2024,1)\n"
   ]
  },
  {
   "cell_type": "code",
   "execution_count": 56,
   "metadata": {},
   "outputs": [
    {
     "data": {
      "text/plain": [
       "array(['fcs', 'ii', 'iii', 'fbs', None], dtype=object)"
      ]
     },
     "execution_count": 56,
     "metadata": {},
     "output_type": "execute_result"
    }
   ],
   "source": [
    "teams['classification'].unique()"
   ]
  },
  {
   "cell_type": "code",
   "execution_count": 65,
   "metadata": {},
   "outputs": [],
   "source": [
    "teams_fbs = teams.loc[teams['classification'] == 'fbs']"
   ]
  },
  {
   "cell_type": "code",
   "execution_count": 66,
   "metadata": {},
   "outputs": [],
   "source": [
    "teams_fcs = teams.loc[teams['classification'] == 'fcs']"
   ]
  },
  {
   "cell_type": "code",
   "execution_count": 67,
   "metadata": {},
   "outputs": [],
   "source": [
    "teams_d2 = teams.loc[teams['classification'] == 'ii']"
   ]
  },
  {
   "cell_type": "code",
   "execution_count": 68,
   "metadata": {},
   "outputs": [],
   "source": [
    "teams_d3 = teams.loc[teams['classification'] == 'iii']"
   ]
  },
  {
   "cell_type": "code",
   "execution_count": 49,
   "metadata": {},
   "outputs": [
    {
     "name": "stdout",
     "output_type": "stream",
     "text": [
      "133 128 169 244\n"
     ]
    }
   ],
   "source": [
    "print(len(teams_fbs), len(teams_fcs), len(teams_d2), len(teams_d3))"
   ]
  },
  {
   "cell_type": "code",
   "execution_count": 69,
   "metadata": {},
   "outputs": [],
   "source": [
    "sanctioned_teams = pd.concat([teams_fbs, teams_fcs, teams_d2, teams_d3], ignore_index=True)"
   ]
  },
  {
   "cell_type": "code",
   "execution_count": 115,
   "metadata": {},
   "outputs": [],
   "source": [
    "roster_information = pd.DataFrame()"
   ]
  },
  {
   "cell_type": "code",
   "execution_count": 116,
   "metadata": {},
   "outputs": [
    {
     "name": "stdout",
     "output_type": "stream",
     "text": [
      "100 2009 4278 66.15104341506958\n",
      "200 2010 8580 135.87768125534058\n",
      "300 2011 13130 206.31269931793213\n",
      "400 2012 17672 277.04093313217163\n",
      "500 2012 22504 348.53480291366577\n",
      "600 2013 27634 419.2055072784424\n",
      "700 2014 33319 488.8234007358551\n",
      "800 2015 39494 557.3821003437042\n",
      "900 2015 46375 631.0240659713745\n",
      "1000 2016 54222 704.8144040107727\n",
      "1100 2017 62708 775.6538963317871\n",
      "1200 2018 71438 845.5027928352356\n",
      "1300 2018 80710 916.3891086578369\n",
      "1400 2019 91411 987.5397417545319\n",
      "1500 2020 103120 1059.8272323608398\n",
      "1600 2021 115188 1135.1508574485779\n",
      "1700 2021 126583 1206.788650751114\n",
      "1800 2022 138410 1276.1581861972809\n",
      "1900 2023 150232 1346.6487770080566\n"
     ]
    }
   ],
   "source": [
    "counter = 0\n",
    "\n",
    "import time\n",
    "\n",
    "start_time = time.time()\n",
    "\n",
    "for year in year_list:\n",
    "    for school in teams_fbs['school']:\n",
    "        mod_team_name = quote(school)\n",
    "        \n",
    "        url_add = \"roster?team=\" + mod_team_name + \"&year=\" + str(year)\n",
    "        \n",
    "        full_url = base_url + url_add\n",
    "        \n",
    "        response = requests.get(full_url, headers = headers)\n",
    "        \n",
    "        data = response.json()\n",
    "        \n",
    "        new_df = pd.DataFrame(data)\n",
    "\n",
    "        new_df['rosterYear'] = year\n",
    "\n",
    "        roster_information = pd.concat([roster_information, new_df], ignore_index = True)\n",
    "\n",
    "        counter += 1\n",
    "\n",
    "        current_time = time.time()\n",
    "\n",
    "        time_elapsed = current_time - start_time\n",
    "\n",
    "        if counter % 100 == 0:\n",
    "            print(counter, year, len(roster_information), time_elapsed)\n"
   ]
  },
  {
   "cell_type": "code",
   "execution_count": 117,
   "metadata": {},
   "outputs": [
    {
     "data": {
      "text/plain": [
       "54289"
      ]
     },
     "execution_count": 117,
     "metadata": {},
     "output_type": "execute_result"
    }
   ],
   "source": [
    "len(roster_information['id'].unique())"
   ]
  },
  {
   "cell_type": "code",
   "execution_count": 8,
   "metadata": {},
   "outputs": [],
   "source": [
    "#pip install cfbda"
   ]
  },
  {
   "cell_type": "markdown",
   "metadata": {},
   "source": [
    "teams.head(25)"
   ]
  },
  {
   "cell_type": "code",
   "execution_count": 114,
   "metadata": {},
   "outputs": [
    {
     "name": "stdout",
     "output_type": "stream",
     "text": [
      "<class 'pandas.core.frame.DataFrame'>\n",
      "RangeIndex: 162765 entries, 0 to 162764\n",
      "Data columns (total 17 columns):\n",
      " #   Column            Non-Null Count   Dtype  \n",
      "---  ------            --------------   -----  \n",
      " 0   id                162765 non-null  object \n",
      " 1   first_name        162758 non-null  object \n",
      " 2   last_name         162757 non-null  object \n",
      " 3   team              162765 non-null  object \n",
      " 4   weight            118758 non-null  float64\n",
      " 5   height            160512 non-null  float64\n",
      " 6   jersey            159094 non-null  float64\n",
      " 7   year              108828 non-null  float64\n",
      " 8   position          161102 non-null  object \n",
      " 9   home_city         160323 non-null  object \n",
      " 10  home_state        159698 non-null  object \n",
      " 11  home_country      160312 non-null  object \n",
      " 12  home_latitude     157457 non-null  object \n",
      " 13  home_longitude    157457 non-null  object \n",
      " 14  home_county_fips  157249 non-null  object \n",
      " 15  recruit_ids       162765 non-null  object \n",
      " 16  rosterYear        162765 non-null  int64  \n",
      "dtypes: float64(4), int64(1), object(12)\n",
      "memory usage: 21.1+ MB\n"
     ]
    }
   ],
   "source": [
    "roster_information.info()"
   ]
  },
  {
   "cell_type": "code",
   "execution_count": 119,
   "metadata": {},
   "outputs": [],
   "source": [
    "roster_information2 = roster_information #leaving a backup"
   ]
  },
  {
   "cell_type": "code",
   "execution_count": 121,
   "metadata": {},
   "outputs": [],
   "source": [
    "roster_information = roster_information2"
   ]
  },
  {
   "cell_type": "code",
   "execution_count": 122,
   "metadata": {},
   "outputs": [],
   "source": [
    "roster_information = roster_information.rename(columns = {\n",
    "                                                'id':'playerId',\n",
    "                                                'first_name':'firstName',\n",
    "                                                'last_name':'lastName',\n",
    "                                                'team':'collegeTeam',\n",
    "                                                'year':'schoolYear',\n",
    "                                                'home_city':'homeCity',\n",
    "                                                'home_state':'homeState',\n",
    "                                                'home_country':'homeCountry',\n",
    "                                                'home_latitude':'homeLatitude',\n",
    "                                                'home_longitude':'homeLongitude',\n",
    "                                                'home_county_fips':'homeCountyFips',\n",
    "                                                'recruit_ids':'recruitIds'\n",
    "\n",
    "})"
   ]
  },
  {
   "cell_type": "code",
   "execution_count": 132,
   "metadata": {},
   "outputs": [],
   "source": [
    "roster_information = roster_information.drop(columns= ['recruitIds'])"
   ]
  },
  {
   "cell_type": "code",
   "execution_count": 124,
   "metadata": {},
   "outputs": [],
   "source": [
    "from google.cloud import bigquery\n",
    "import os"
   ]
  },
  {
   "cell_type": "code",
   "execution_count": 125,
   "metadata": {},
   "outputs": [],
   "source": [
    "os.environ['GOOGLE_APPLICATION_CREDENTIALS'] = '/home/gshoda/key.json'"
   ]
  },
  {
   "cell_type": "code",
   "execution_count": 126,
   "metadata": {},
   "outputs": [],
   "source": [
    "client = bigquery.Client()"
   ]
  },
  {
   "cell_type": "code",
   "execution_count": 127,
   "metadata": {},
   "outputs": [],
   "source": [
    "dataset = 'sp24-i535-gshoda-nfldraft.NFL_Draft'\n",
    "table_ref = client.dataset(dataset).table('College_Players')"
   ]
  },
  {
   "cell_type": "code",
   "execution_count": 128,
   "metadata": {},
   "outputs": [],
   "source": [
    "import pandas_gbq"
   ]
  },
  {
   "cell_type": "code",
   "execution_count": 133,
   "metadata": {},
   "outputs": [],
   "source": [
    "project_id = \"sp24-i535-gshoda-nfldraft\"\n",
    "table_name = 'NFL_Draft.College_Players'\n",
    "\n",
    "pandas_gbq.to_gbq(roster_information, table_name, project_id = project_id, if_exists='replace')"
   ]
  },
  {
   "cell_type": "code",
   "execution_count": 134,
   "metadata": {},
   "outputs": [
    {
     "name": "stdout",
     "output_type": "stream",
     "text": [
      "<class 'pandas.core.frame.DataFrame'>\n",
      "Index: 133 entries, 3 to 879\n",
      "Data columns (total 14 columns):\n",
      " #   Column          Non-Null Count  Dtype \n",
      "---  ------          --------------  ----- \n",
      " 0   id              133 non-null    int64 \n",
      " 1   school          133 non-null    object\n",
      " 2   mascot          133 non-null    object\n",
      " 3   abbreviation    133 non-null    object\n",
      " 4   alt_name1       18 non-null     object\n",
      " 5   alt_name2       133 non-null    object\n",
      " 6   alt_name3       133 non-null    object\n",
      " 7   conference      133 non-null    object\n",
      " 8   classification  133 non-null    object\n",
      " 9   color           133 non-null    object\n",
      " 10  alt_color       131 non-null    object\n",
      " 11  logos           133 non-null    object\n",
      " 12  twitter         132 non-null    object\n",
      " 13  location        133 non-null    object\n",
      "dtypes: int64(1), object(13)\n",
      "memory usage: 15.6+ KB\n"
     ]
    }
   ],
   "source": [
    "teams_fbs.info()"
   ]
  },
  {
   "cell_type": "code",
   "execution_count": 136,
   "metadata": {},
   "outputs": [],
   "source": [
    "teams_fbs = teams_fbs.drop(columns = ['logos'])"
   ]
  },
  {
   "cell_type": "code",
   "execution_count": 137,
   "metadata": {},
   "outputs": [],
   "source": [
    "teams_fbs = teams_fbs.rename(columns = {\n",
    "                                    'alt_name1':'alternateName1',\n",
    "                                    'alt_name2':'alternateName2',\n",
    "                                    'alt_name3':'alternateName3',\n",
    "                                    'alt_color':'alternateColor'\n",
    "})"
   ]
  },
  {
   "cell_type": "code",
   "execution_count": 139,
   "metadata": {},
   "outputs": [],
   "source": [
    "expanded_location = pd.json_normalize(teams_fbs['location'])"
   ]
  },
  {
   "cell_type": "code",
   "execution_count": 142,
   "metadata": {},
   "outputs": [],
   "source": [
    "teams_fbs_expanded = pd.concat([teams_fbs.drop(columns=['location']), expanded_location], axis = 1)"
   ]
  },
  {
   "cell_type": "code",
   "execution_count": 144,
   "metadata": {},
   "outputs": [
    {
     "name": "stdout",
     "output_type": "stream",
     "text": [
      "<class 'pandas.core.frame.DataFrame'>\n",
      "Index: 247 entries, 3 to 132\n",
      "Data columns (total 26 columns):\n",
      " #   Column            Non-Null Count  Dtype  \n",
      "---  ------            --------------  -----  \n",
      " 0   id                133 non-null    float64\n",
      " 1   school            133 non-null    object \n",
      " 2   mascot            133 non-null    object \n",
      " 3   abbreviation      133 non-null    object \n",
      " 4   alternateName1    18 non-null     object \n",
      " 5   alternateName2    133 non-null    object \n",
      " 6   alternateName3    133 non-null    object \n",
      " 7   conference        133 non-null    object \n",
      " 8   classification    133 non-null    object \n",
      " 9   color             133 non-null    object \n",
      " 10  alternateColor    131 non-null    object \n",
      " 11  twitter           132 non-null    object \n",
      " 12  venue_id          133 non-null    float64\n",
      " 13  name              133 non-null    object \n",
      " 14  city              133 non-null    object \n",
      " 15  state             133 non-null    object \n",
      " 16  zip               133 non-null    object \n",
      " 17  country_code      132 non-null    object \n",
      " 18  timezone          128 non-null    object \n",
      " 19  latitude          133 non-null    float64\n",
      " 20  longitude         133 non-null    float64\n",
      " 21  elevation         129 non-null    object \n",
      " 22  capacity          133 non-null    float64\n",
      " 23  year_constructed  128 non-null    float64\n",
      " 24  grass             133 non-null    object \n",
      " 25  dome              133 non-null    object \n",
      "dtypes: float64(6), object(20)\n",
      "memory usage: 52.1+ KB\n"
     ]
    }
   ],
   "source": [
    "teams_fbs_expanded.info(verbose=True)"
   ]
  },
  {
   "cell_type": "code",
   "execution_count": 145,
   "metadata": {},
   "outputs": [],
   "source": [
    "teams_fbs_expanded = teams_fbs_expanded.rename(columns = {\n",
    "                                                            'venue_id':'venueId',\n",
    "                                                            'country_code':'countryCode',\n",
    "                                                            'year_constructed':'yearConstructed'\n",
    "})"
   ]
  },
  {
   "cell_type": "code",
   "execution_count": 151,
   "metadata": {},
   "outputs": [
    {
     "name": "stdout",
     "output_type": "stream",
     "text": [
      "<class 'pandas.core.frame.DataFrame'>\n",
      "Index: 247 entries, 3 to 132\n",
      "Data columns (total 26 columns):\n",
      " #   Column           Non-Null Count  Dtype  \n",
      "---  ------           --------------  -----  \n",
      " 0   id               133 non-null    float64\n",
      " 1   school           133 non-null    object \n",
      " 2   mascot           133 non-null    object \n",
      " 3   abbreviation     133 non-null    object \n",
      " 4   alternateName1   18 non-null     object \n",
      " 5   alternateName2   133 non-null    object \n",
      " 6   alternateName3   133 non-null    object \n",
      " 7   conference       133 non-null    object \n",
      " 8   classification   133 non-null    object \n",
      " 9   color            133 non-null    object \n",
      " 10  alternateColor   131 non-null    object \n",
      " 11  twitter          132 non-null    object \n",
      " 12  venueId          133 non-null    float64\n",
      " 13  name             133 non-null    object \n",
      " 14  city             133 non-null    object \n",
      " 15  state            133 non-null    object \n",
      " 16  zip              133 non-null    object \n",
      " 17  countryCode      132 non-null    object \n",
      " 18  timezone         128 non-null    object \n",
      " 19  latitude         133 non-null    float64\n",
      " 20  longitude        133 non-null    float64\n",
      " 21  elevation        129 non-null    object \n",
      " 22  capacity         133 non-null    float64\n",
      " 23  yearConstructed  128 non-null    float64\n",
      " 24  grass            133 non-null    object \n",
      " 25  dome             133 non-null    object \n",
      "dtypes: float64(6), object(20)\n",
      "memory usage: 52.1+ KB\n"
     ]
    }
   ],
   "source": [
    "teams_fbs_expanded.info()"
   ]
  },
  {
   "cell_type": "code",
   "execution_count": 155,
   "metadata": {},
   "outputs": [],
   "source": [
    "teams_fbs_expanded['yearConstructed'] = pd.to_numeric(teams_fbs_expanded['yearConstructed'], errors = 'coerce').fillna('0').astype(int)\n",
    "teams_fbs_expanded['id'] = pd.to_numeric(teams_fbs_expanded['id'], errors = 'coerce').fillna('0').astype(int)\n",
    "teams_fbs_expanded['venueId'] = pd.to_numeric(teams_fbs_expanded['venueId'], errors = 'coerce').fillna('0').astype(int)\n",
    "teams_fbs_expanded['capacity'] = pd.to_numeric(teams_fbs_expanded['capacity'], errors = 'coerce').fillna('0').astype(int)"
   ]
  },
  {
   "cell_type": "code",
   "execution_count": 156,
   "metadata": {},
   "outputs": [],
   "source": [
    "teams_fbs_expanded = teams_fbs_expanded.rename(columns = {\n",
    "                    'id':'teamId'\n",
    "})"
   ]
  },
  {
   "cell_type": "code",
   "execution_count": 159,
   "metadata": {},
   "outputs": [],
   "source": [
    "teams_fbs_expanded['grass'] = teams_fbs_expanded['grass'].fillna('0').astype(int).astype(bytes)\n",
    "teams_fbs_expanded['dome'] = teams_fbs_expanded['dome'].fillna('0').astype(int).astype(bytes)"
   ]
  },
  {
   "cell_type": "code",
   "execution_count": 152,
   "metadata": {},
   "outputs": [],
   "source": [
    "#table_ref = client.dataset(dataset).table('College_Teams')"
   ]
  },
  {
   "cell_type": "code",
   "execution_count": 160,
   "metadata": {},
   "outputs": [],
   "source": [
    "project_id = \"sp24-i535-gshoda-nfldraft\"\n",
    "table_name = 'NFL_Draft.College_Teams'\n",
    "\n",
    "pandas_gbq.to_gbq(teams_fbs_expanded, table_name, project_id = project_id, if_exists='replace')"
   ]
  },
  {
   "cell_type": "code",
   "execution_count": null,
   "metadata": {},
   "outputs": [],
   "source": []
  }
 ],
 "metadata": {
  "kernelspec": {
   "display_name": "Python 3",
   "language": "python",
   "name": "python3"
  },
  "language_info": {
   "codemirror_mode": {
    "name": "ipython",
    "version": 3
   },
   "file_extension": ".py",
   "mimetype": "text/x-python",
   "name": "python",
   "nbconvert_exporter": "python",
   "pygments_lexer": "ipython3",
   "version": "3.9.2"
  }
 },
 "nbformat": 4,
 "nbformat_minor": 2
}
